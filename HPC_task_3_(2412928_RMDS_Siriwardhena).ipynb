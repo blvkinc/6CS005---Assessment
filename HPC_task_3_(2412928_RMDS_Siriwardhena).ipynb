{
  "nbformat": 4,
  "nbformat_minor": 0,
  "metadata": {
    "colab": {
      "provenance": []
    },
    "kernelspec": {
      "name": "python3",
      "display_name": "Python 3"
    },
    "language_info": {
      "name": "python"
    }
  },
  "cells": [
    {
      "cell_type": "code",
      "execution_count": 1,
      "metadata": {
        "colab": {
          "base_uri": "https://localhost:8080/"
        },
        "id": "Vh4asuy4fxQJ",
        "outputId": "131b4dd9-cf0b-41a2-d2ca-aeddd88b8661"
      },
      "outputs": [
        {
          "output_type": "stream",
          "name": "stdout",
          "text": [
            "Collecting git+https://github.com/andreinechaev/nvcc4jupyter.git\n",
            "  Cloning https://github.com/andreinechaev/nvcc4jupyter.git to /tmp/pip-req-build-hg5c_6w5\n",
            "  Running command git clone --filter=blob:none --quiet https://github.com/andreinechaev/nvcc4jupyter.git /tmp/pip-req-build-hg5c_6w5\n",
            "  Resolved https://github.com/andreinechaev/nvcc4jupyter.git to commit 326b0a57a80c6d0b4bad25ca7adf8138419ef1cb\n",
            "  Installing build dependencies ... \u001b[?25l\u001b[?25hdone\n",
            "  Getting requirements to build wheel ... \u001b[?25l\u001b[?25hdone\n",
            "  Preparing metadata (pyproject.toml) ... \u001b[?25l\u001b[?25hdone\n",
            "Building wheels for collected packages: nvcc4jupyter\n",
            "  Building wheel for nvcc4jupyter (pyproject.toml) ... \u001b[?25l\u001b[?25hdone\n",
            "  Created wheel for nvcc4jupyter: filename=nvcc4jupyter-1.2.1-py3-none-any.whl size=10741 sha256=1c43b610d84440f376c57bb0b3d20f87e2433fdb6f06eb98d5fd7c81c461a971\n",
            "  Stored in directory: /tmp/pip-ephem-wheel-cache-r9u8f0it/wheels/a8/b9/18/23f8ef71ceb0f63297dd1903aedd067e6243a68ea756d6feea\n",
            "Successfully built nvcc4jupyter\n",
            "Installing collected packages: nvcc4jupyter\n",
            "Successfully installed nvcc4jupyter-1.2.1\n"
          ]
        }
      ],
      "source": [
        "!pip install git+https://github.com/andreinechaev/nvcc4jupyter.git"
      ]
    },
    {
      "cell_type": "code",
      "source": [
        "!nvcc --version"
      ],
      "metadata": {
        "colab": {
          "base_uri": "https://localhost:8080/"
        },
        "id": "IdXXuK00gFuF",
        "outputId": "e378c5b4-f452-4f02-9516-38890203d80b"
      },
      "execution_count": 2,
      "outputs": [
        {
          "output_type": "stream",
          "name": "stdout",
          "text": [
            "nvcc: NVIDIA (R) Cuda compiler driver\n",
            "Copyright (c) 2005-2023 NVIDIA Corporation\n",
            "Built on Tue_Aug_15_22:02:13_PDT_2023\n",
            "Cuda compilation tools, release 12.2, V12.2.140\n",
            "Build cuda_12.2.r12.2/compiler.33191640_0\n"
          ]
        }
      ]
    },
    {
      "cell_type": "code",
      "source": [
        "%load_ext nvcc4jupyter"
      ],
      "metadata": {
        "colab": {
          "base_uri": "https://localhost:8080/"
        },
        "id": "CmyUtpmOgGVH",
        "outputId": "ba1ae941-f093-4ba3-f1ee-968a59a4fb93"
      },
      "execution_count": 3,
      "outputs": [
        {
          "output_type": "stream",
          "name": "stdout",
          "text": [
            "Detected platform \"Colab\". Running its setup...\n",
            "Source files will be saved in \"/tmp/tmpf0n1ailz\".\n"
          ]
        }
      ]
    },
    {
      "cell_type": "code",
      "source": [
        "%%cuda\n",
        "#include <stdio.h>\n",
        "#include <stdlib.h>\n",
        "#include <string.h>\n",
        "\n",
        "char* CpuCrypt(char* rawPassword) {\n",
        "    char* newPassword = (char *) malloc(sizeof(char) * 11);\n",
        "\n",
        "    newPassword[0] = rawPassword[0] + 2;\n",
        "    newPassword[1] = rawPassword[0] - 2;\n",
        "    newPassword[2] = rawPassword[0] + 1;\n",
        "    newPassword[3] = rawPassword[1] + 3;\n",
        "    newPassword[4] = rawPassword[1] - 3;\n",
        "    newPassword[5] = rawPassword[1] - 1;\n",
        "    newPassword[6] = rawPassword[2] + 2;\n",
        "    newPassword[7] = rawPassword[2] - 2;\n",
        "    newPassword[8] = rawPassword[3] + 4;\n",
        "    newPassword[9] = rawPassword[3] - 4;\n",
        "    newPassword[10] = '\\0';\n",
        "\n",
        "    for(int i = 0; i < 10; i++){\n",
        "        if(i < 6){ //checking letter limits\n",
        "            if(newPassword[i] > 122){\n",
        "                newPassword[i] = (newPassword[i] - 122) + 97;\n",
        "            } else if(newPassword[i] < 97){\n",
        "                newPassword[i] = (97 - newPassword[i]) + 97;\n",
        "            }\n",
        "        } else { //checking numbers\n",
        "            if(newPassword[i] > 57){\n",
        "                newPassword[i] = (newPassword[i] - 57) + 48;\n",
        "            } else if(newPassword[i] < 48){\n",
        "                newPassword[i] = (48 - newPassword[i]) + 48;\n",
        "            }\n",
        "        }\n",
        "    }\n",
        "    return newPassword;\n",
        "}\n",
        "\n",
        "int main(int argc, char** argv) {\n",
        "    const char* encryptedPassword = \"ccbddb7362\";\n",
        "    if (argc > 1) {\n",
        "        encryptedPassword = argv[1];\n",
        "    }\n",
        "    printf(\"Encrypted Password: '%s'\\n\", encryptedPassword);\n",
        "\n",
        "    char cpuAlphabet[26] = { 'a','b','c','d','e','f','g','h','i','j','k','l','m','n','o','p','q','r','s','t','u','v','w','x','y','z' };\n",
        "    char cpuNumbers[10] = { '0', '1', '2', '3', '4', '5', '6' ,'7', '8', '9' };\n",
        "\n",
        "    char cpuOutputPass[11]; // Allocate space for the output password\n",
        "\n",
        "    // Brute force decryption\n",
        "    for (int i = 0; i < 26; i++) {\n",
        "        for (int j = 0; j < 26; j++) {\n",
        "            for (int k = 0; k < 10; k++) {\n",
        "                for (int l = 0; l < 10; l++) {\n",
        "                    char potentialPassword[5];\n",
        "                    potentialPassword[0] = cpuAlphabet[i];\n",
        "                    potentialPassword[1] = cpuAlphabet[j];\n",
        "                    potentialPassword[2] = cpuNumbers[k];\n",
        "                    potentialPassword[3] = cpuNumbers[l];\n",
        "                    potentialPassword[4] = '\\0';\n",
        "\n",
        "                    char* encryptedPotential = CpuCrypt(potentialPassword);\n",
        "\n",
        "                    if (strcmp(encryptedPotential, encryptedPassword) == 0) {\n",
        "                        printf(\"Found password: '%s' for encrypted password: '%s'\\n\", potentialPassword, encryptedPassword);\n",
        "                        strcpy(cpuOutputPass, potentialPassword);\n",
        "                        break;\n",
        "                    }\n",
        "\n",
        "                    free(encryptedPotential);\n",
        "                }\n",
        "            }\n",
        "        }\n",
        "    }\n",
        "\n",
        "    printf(\"Results:\\n\");\n",
        "    if (cpuOutputPass[0] != 0) {\n",
        "        printf(\"Decrypted Password: '%s'\\n\", cpuOutputPass);\n",
        "    } else {\n",
        "        printf(\"Password decryption failed.\\n\");\n",
        "    }\n",
        "\n",
        "    return 0;\n",
        "}\n"
      ],
      "metadata": {
        "colab": {
          "base_uri": "https://localhost:8080/"
        },
        "id": "ptLyBwgbgmTG",
        "outputId": "8023b5bf-1b62-48e0-9332-37d7b6c76035"
      },
      "execution_count": 14,
      "outputs": [
        {
          "output_type": "stream",
          "name": "stdout",
          "text": [
            "Encrypted Password: 'ccbddb7362'\n",
            "Found password: 'aa52' for encrypted password: 'ccbddb7362'\n",
            "Results:\n",
            "Decrypted Password: 'aa52'\n",
            "\n"
          ]
        }
      ]
    }
  ]
}